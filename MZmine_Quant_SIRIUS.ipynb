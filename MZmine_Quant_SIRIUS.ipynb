{
 "cells": [
  {
   "cell_type": "markdown",
   "id": "34b78888-0f13-4ebf-a491-d99fb59f1ed1",
   "metadata": {
    "jp-MarkdownHeadingCollapsed": true
   },
   "source": [
    "# MZmine-SIRIUS workflow\n",
    "\n",
    "This workflow is designed to work with data preprocessed with MZmine and SIRIUS (CANOPUS):\n",
    "1- Determine the number of features per sample\n",
    "2- Obtain the proportion of features per Pathway NPC-taxonomy or Superclass ClassyFire-taxonomy per sample.\n",
    "3- Obtain the proportion of features per Superclass NPC-taxonomy or Class ClassyFire-taxonomyper sample.\n",
    "4- Obtain the proportion of features per Class NPC-taxonomy or SubClass ClassyFire-taxonomy per sample.\n",
    "5- Do the above by grouping the replicas"
   ]
  },
  {
   "cell_type": "markdown",
   "id": "47a02153-9884-4205-bf21-a891fd2bef6f",
   "metadata": {},
   "source": [
    "# Requirements\n",
    "1-Quant file (.csv)\n",
    "2-Canopus_compound_summary file (.tsv)\n",
    "3-Metadata file (.txt, columne Filename and columne ATTRIBUTE)"
   ]
  },
  {
   "cell_type": "markdown",
   "id": "3ddfb209-8af2-4ad2-acfe-fe347272811e",
   "metadata": {},
   "source": [
    "# Load packages"
   ]
  },
  {
   "cell_type": "code",
   "execution_count": 1,
   "id": "a8003265-4c10-475e-bba9-fb8aeb84430b",
   "metadata": {},
   "outputs": [
    {
     "name": "stderr",
     "output_type": "stream",
     "text": [
      "Cargando paquete requerido: pacman\n",
      "\n"
     ]
    }
   ],
   "source": [
    "if (!require(pacman)) install.packages(\"pacman\")\n",
    "pacman::p_load(svglite, readr, fuzzyjoin, tidyverse, readxl, openxlsx, dplyr, stringr, tidyr, ggplot2, writexl, UpSetR, Cairo)"
   ]
  },
  {
   "cell_type": "markdown",
   "id": "d1fd8a2f-f86d-419f-bcb9-b408013db670",
   "metadata": {},
   "source": [
    "# Part 1"
   ]
  },
  {
   "cell_type": "markdown",
   "id": "1f0d8f62-d0ff-4ee9-a7ca-36d6694c419c",
   "metadata": {},
   "source": [
    "## Load data\n",
    "change the name as appropriate"
   ]
  },
  {
   "cell_type": "code",
   "execution_count": 9,
   "id": "2b8ec4dc-5969-4025-b00c-1234393ecb76",
   "metadata": {},
   "outputs": [
    {
     "name": "stderr",
     "output_type": "stream",
     "text": [
      "\u001b[1m\u001b[22mNew names:\n",
      "\u001b[36m•\u001b[39m `` -> `...41`\n",
      "\u001b[1mRows: \u001b[22m\u001b[34m1014\u001b[39m \u001b[1mColumns: \u001b[22m\u001b[34m41\u001b[39m\n",
      "\u001b[36m──\u001b[39m \u001b[1mColumn specification\u001b[22m \u001b[36m────────────────────────────────────────────────────────────────────────────────────────────────\u001b[39m\n",
      "\u001b[1mDelimiter:\u001b[22m \",\"\n",
      "\u001b[31mchr\u001b[39m  (2): best ion, partners\n",
      "\u001b[32mdbl\u001b[39m (34): row ID, row m/z, row retention time, correlation group ID, annotat...\n",
      "\u001b[33mlgl\u001b[39m  (5): row ion mobility, row ion mobility unit, row CCS, auto MS2 verify,...\n",
      "\n",
      "\u001b[36mℹ\u001b[39m Use `spec()` to retrieve the full column specification for this data.\n",
      "\u001b[36mℹ\u001b[39m Specify the column types or set `show_col_types = FALSE` to quiet this message.\n",
      "\u001b[1mRows: \u001b[22m\u001b[34m2059\u001b[39m \u001b[1mColumns: \u001b[22m\u001b[34m28\u001b[39m\n",
      "\u001b[36m──\u001b[39m \u001b[1mColumn specification\u001b[22m \u001b[36m────────────────────────────────────────────────────────────────────────────────────────────────\u001b[39m\n",
      "\u001b[1mDelimiter:\u001b[22m \"\\t\"\n",
      "\u001b[31mchr\u001b[39m (12): molecularFormula, adduct, precursorFormula, NPC#pathway, NPC#super...\n",
      "\u001b[32mdbl\u001b[39m (15): formulaRank, NPC#pathway Probability, NPC#superclass Probability, ...\n",
      "\u001b[33mlgl\u001b[39m  (1): overallFeatureQuality\n",
      "\n",
      "\u001b[36mℹ\u001b[39m Use `spec()` to retrieve the full column specification for this data.\n",
      "\u001b[36mℹ\u001b[39m Specify the column types or set `show_col_types = FALSE` to quiet this message.\n",
      "\u001b[1m\u001b[22mNew names:\n",
      "\u001b[36m•\u001b[39m `` -> `...3`\n",
      "Warning message:\n",
      "\"\u001b[1m\u001b[22mOne or more parsing issues, call `problems()` on your data frame for details, e.g.:\n",
      "  dat <- vroom(...)\n",
      "  problems(dat)\"\n",
      "\u001b[1mRows: \u001b[22m\u001b[34m27\u001b[39m \u001b[1mColumns: \u001b[22m\u001b[34m3\u001b[39m\n",
      "\u001b[36m──\u001b[39m \u001b[1mColumn specification\u001b[22m \u001b[36m────────────────────────────────────────────────────────────────────────────────────────────────\u001b[39m\n",
      "\u001b[1mDelimiter:\u001b[22m \"\\t\"\n",
      "\u001b[31mchr\u001b[39m (2): Filename, ATTRIBUTE_Sample\n",
      "\u001b[33mlgl\u001b[39m (1): ...3\n",
      "\n",
      "\u001b[36mℹ\u001b[39m Use `spec()` to retrieve the full column specification for this data.\n",
      "\u001b[36mℹ\u001b[39m Specify the column types or set `show_col_types = FALSE` to quiet this message.\n"
     ]
    }
   ],
   "source": [
    "## Quant_File\n",
    "Quant <- read_csv(\"Quant_base.csv\") %>%\n",
    "  mutate(`row ID` = as.character(`row ID`)) %>%\n",
    "  select(-c(`row m/z`, `row retention time`, `row ion mobility`, `row ion mobility unit`, \n",
    "            `row CCS`, `correlation group ID`, `annotation network number`, `best ion`, \n",
    "            `auto MS2 verify`, `identified by n=`, `partners`, `neutral M mass`))\n",
    "\n",
    "## Load CANOPUS predictions\n",
    "Canopus <- read_tsv(\"canopus_structure_summary.tsv\") # change name\n",
    "Canopus$mappingFeatureId <- as.character(Canopus$mappingFeatureId)\n",
    "\n",
    "## Load metadata \n",
    "Metadata <- read_delim(\"Metadata.txt\")%>%\n",
    "  select(\"Filename\",\"ATTRIBUTE_Sample\" )\n"
   ]
  },
  {
   "cell_type": "markdown",
   "id": "5acdb971-81c4-4d85-9000-14b74e971313",
   "metadata": {},
   "source": [
    "# Part 2\n",
    "## Taxonomy selection"
   ]
  },
  {
   "cell_type": "code",
   "execution_count": 10,
   "id": "54e4f619-c763-4f24-b539-62ec526b070d",
   "metadata": {},
   "outputs": [],
   "source": [
    "Taxonomy <- \"ClassyFire#\" #\"NPC#\"\n",
    "\n",
    "taxonomy_columns <- list(\n",
    "  \"NPC#\" = c(\"pathway\", \"superclass\", \"class\"),\n",
    "  \"ClassyFire#\" = c(\"superclass\", \"class\", \"subclass\")\n",
    ")\n",
    "categories <- taxonomy_columns[[Taxonomy]]"
   ]
  },
  {
   "cell_type": "markdown",
   "id": "05da1fb9-1a49-4157-9328-09d2000a044b",
   "metadata": {},
   "source": [
    "# Part 3\n",
    "## Data description"
   ]
  },
  {
   "cell_type": "markdown",
   "id": "1f68c283-a616-423b-93bb-3aa65c636f63",
   "metadata": {},
   "source": [
    "## Run the workflow to obtain the plot (Download from plot folder)"
   ]
  },
  {
   "cell_type": "code",
   "execution_count": 11,
   "id": "112966ee-a17f-4f66-b59f-c2f587b38f12",
   "metadata": {},
   "outputs": [
    {
     "data": {
      "text/html": [
       "<strong>pdf:</strong> 2"
      ],
      "text/latex": [
       "\\textbf{pdf:} 2"
      ],
      "text/markdown": [
       "**pdf:** 2"
      ],
      "text/plain": [
       "pdf \n",
       "  2 "
      ]
     },
     "metadata": {},
     "output_type": "display_data"
    },
    {
     "data": {
      "text/html": [
       "<strong>pdf:</strong> 2"
      ],
      "text/latex": [
       "\\textbf{pdf:} 2"
      ],
      "text/markdown": [
       "**pdf:** 2"
      ],
      "text/plain": [
       "pdf \n",
       "  2 "
      ]
     },
     "metadata": {},
     "output_type": "display_data"
    },
    {
     "name": "stdout",
     "output_type": "stream",
     "text": [
      "[1] \"Now you can check the folder 'plot' for your saved graphics\"\n"
     ]
    }
   ],
   "source": [
    "get_present_samples <- function(feature_row) {\n",
    "  present_samples <- names(feature_row)[!is.na(feature_row) & feature_row != 0]\n",
    "  paste(unique(present_samples), collapse = \",\")\n",
    "}\n",
    "Feature_per_sample <- data.frame(\n",
    "  Precursor = Quant$`row ID`,\n",
    "  samples = sapply(apply(Quant[, 2:ncol(Quant)], 1, get_present_samples), \n",
    "                   function(x) paste(sub(\"\\\\..*\", \"\", unlist(strsplit(x, \",\"))), collapse = \",\")))\n",
    "Feature_per_sample_long <- Feature_per_sample %>%\n",
    "  separate_rows(samples, sep = \",\")%>%\n",
    "  mutate(samples = str_trim(samples)) \n",
    "Feature_sample <- Feature_per_sample_long %>%\n",
    "  group_by(samples) %>%\n",
    "  summarise(count = n())\n",
    "plot=ggplot(Feature_sample, aes(x = samples, y = count)) +\n",
    "  geom_bar(stat = \"identity\", fill = \"steelblue\") +\n",
    "  geom_text(aes(label = count), vjust = -0.5, color = \"black\") +\n",
    "  labs(x = \"Sample\",\n",
    "       y = \"Number of features\") +\n",
    "  theme_minimal() +\n",
    "  theme(axis.text.x = element_text(angle = 60, hjust = 1),\n",
    "        panel.grid.major = element_blank(),\n",
    "        panel.grid.minor = element_blank())+\n",
    "  annotate(\"text\", x = Inf, y = Inf, label = \"\", \n",
    "           hjust = 1.1, vjust = 1.1, size = 6, fontface = \"bold\", color = \"black\")\n",
    "if (!dir.exists(\"plot\")) {\n",
    "  dir.create(\"plot\")\n",
    "}\n",
    "ggsave(\"plot/features_sample.png\", plot = plot, width = 10, height = 6)\n",
    "ggsave(\"plot/features_sample.svg\", plot = plot, width = 10, height = 6, device = \"svg\")\n",
    "Quant_metadata <- Quant\n",
    "colnames(Quant_metadata)[2:ncol(Quant_metadata)] <- sapply(colnames(Quant_metadata)[2:ncol(Quant_metadata)], function(x) \n",
    "  paste(sub(\" .*\", \"\", x), collapse = \",\"))\n",
    "col_names <- colnames(Quant_metadata)[-1]\n",
    "name_map <- setNames(Metadata$ATTRIBUTE_Sample, Metadata$Filename)\n",
    "new_col_names <- ifelse(col_names %in% names(name_map), name_map[col_names], col_names)\n",
    "colnames(Quant_metadata)[-1] <- new_col_names\n",
    "Feature_per_sample_Metadata <- data.frame(\n",
    "  Precursor = Quant_metadata$`row ID`,  \n",
    "  samples = sapply(apply(Quant_metadata[, 2:ncol(Quant_metadata)], 1, get_present_samples), function(x) paste(x, collapse = \",\"))\n",
    ")\n",
    "Feature_per_sample_Metadata_long <- Feature_per_sample_Metadata %>%\n",
    "  separate_rows(samples, sep = \",\")%>%\n",
    "  mutate(samples = str_trim(samples)) \n",
    "Feature_sample_Metadata <- Feature_per_sample_Metadata_long %>%\n",
    "  group_by(samples) %>%\n",
    "  summarise(count = n())\n",
    "Features_per_sample_metadata_plot=ggplot(Feature_sample_Metadata, aes(x = samples, y = count)) +\n",
    "  geom_bar(stat = \"identity\", fill = \"steelblue\") +\n",
    "  geom_text(aes(label = count), vjust = -0.5, color = \"black\") +\n",
    "  labs(x = \"Sample\",\n",
    "       y = \"Number of features\") +\n",
    "  theme_minimal() +\n",
    "  theme(axis.text.x = element_text(angle = 60, hjust = 1),\n",
    "        panel.grid.major = element_blank(),\n",
    "        panel.grid.minor = element_blank())+\n",
    "  annotate(\"text\", x = Inf, y = Inf, label = \"\", \n",
    "           hjust = 1.1, vjust = 1.1, size = 6, fontface = \"bold\", color = \"black\")\n",
    "# Save the plot in the 'plot' folder\n",
    "ggsave(\"plot/features_sample_Metadata.png\", plot = Features_per_sample_metadata_plot, width = 10, height = 6)\n",
    "ggsave(\"plot/features_sample_Metadata.svg\", plot = Features_per_sample_metadata_plot, width = 10, height = 6, device = \"svg\")\n",
    "df_upsetplot <- strsplit(as.character(Feature_per_sample_Metadata$samples), \",\")\n",
    "names(df_upsetplot) <- Feature_per_sample_Metadata$Precursor\n",
    "unique_samples <- unique(unlist(df_upsetplot))\n",
    "presence_matrix <- do.call(rbind, lapply(df_upsetplot, function(x) {\n",
    "  as.numeric(unique_samples %in% x)\n",
    "}))\n",
    "colnames(presence_matrix) <- unique_samples\n",
    "presence_df <- as.data.frame(presence_matrix)\n",
    "png(\"plot/upset_plot.png\", width = 3000, height = 800, res = 150)\n",
    "upset(\n",
    "  presence_df, \n",
    "  sets = colnames(presence_df), \n",
    "  order.by = \"freq\", \n",
    "  main.bar.color = \"#2F4F4F\",          \n",
    "  sets.bar.color = \"#68838B\",          \n",
    "  matrix.color = \"#8B5742\",           \n",
    "  shade.color = \"white\",               \n",
    "  set_size.show = TRUE,               \n",
    ")\n",
    "dev.off()\n",
    "svg(\"plot/upset_plot.svg\", width = 18, height = 8)\n",
    "upset(\n",
    "  presence_df, \n",
    "  sets = colnames(presence_df), \n",
    "  order.by = \"freq\", \n",
    "  main.bar.color = \"#2F4F4F\",          \n",
    "  sets.bar.color = \"#68838B\",          \n",
    "  matrix.color = \"#8B5742\",           \n",
    "  shade.color = \"white\",               \n",
    "  set_size.show = TRUE,\n",
    "  mb.ratio = c(0.7, 0.3),\n",
    "  set_size.angles = 0\n",
    ")\n",
    "dev.off()\n",
    "print(\"Now you can check the folder 'plot' for your saved graphics\")"
   ]
  },
  {
   "cell_type": "markdown",
   "id": "cfac2d62-afc1-4a05-968f-2f6bfa6ecaf7",
   "metadata": {},
   "source": [
    "# Part 4\n",
    "## Proportion of taxonomy per sample"
   ]
  },
  {
   "cell_type": "code",
   "execution_count": 12,
   "id": "1a7a9173-8574-4f42-8da5-f450f07e4654",
   "metadata": {},
   "outputs": [],
   "source": [
    "# Custom color palette\n",
    "custom_color_palette <- c(\n",
    "  \"#1b9e77\", \"#d95f02\", \"#7570b3\", \"#e7298a\", \"#66a61e\", \"#e6ab02\", \"#a6761d\", \"#666666\",\n",
    "  \"#8dd3c7\", \"#ffffb3\", \"#bebada\", \"#fb8072\", \"#80b1d3\", \"#fdb462\", \"#b3de69\", \"#fccde5\",\n",
    "  \"#e41a1c\", \"#8B8878\", \"#a6cee3\", \"#1f78b4\", \"#b2df8a\", \"#33a02c\", \"#fb9a99\", \"#e31a1c\",\n",
    "  \"#fdbf6f\", \"#ff7f00\", \"#cab2d6\", \"#6a3d9a\", \"#ffff99\", \"#b15928\"\n",
    ")"
   ]
  },
  {
   "cell_type": "markdown",
   "id": "a912e9e4-056e-46f5-b5c9-2d3527d4d57f",
   "metadata": {},
   "source": [
    "# 4.1- Taxonomy withouth replicates"
   ]
  },
  {
   "cell_type": "code",
   "execution_count": 13,
   "id": "5695b1b7-0d31-48e1-a916-49a731ac1bf7",
   "metadata": {},
   "outputs": [],
   "source": [
    "Quant_canopus <- Quant %>%\n",
    "  left_join(Canopus, by = c(\"row ID\" = \"mappingFeatureId\")) %>% \n",
    "  select(\"row ID\", contains(\"Peak Area\"), matches(paste0(\"^\", Taxonomy, \"(\", paste(taxonomy_columns[[Taxonomy]], collapse = \"|\"), \")$\")))\n",
    "\n",
    "#samples processing\n",
    "process_sample_names <- function(x) {\n",
    "  parts <- unlist(strsplit(x, \",\"))\n",
    "  base_names <- sub(\"\\\\..*\", \"\", parts)\n",
    "  paste(base_names, collapse = \",\")\n",
    "}\n",
    "\n",
    "# category loop\n",
    "for (category in taxonomy_columns[[Taxonomy]]) {\n",
    "  current_tax_col <- paste0(Taxonomy, category)\n",
    "  sample_data <- apply(Quant_canopus %>% select(contains(\"Peak Area\")), 1, get_present_samples)\n",
    "  processed_samples <- sapply(sample_data, process_sample_names)\n",
    "  Feature_per_sample <- data.frame(\n",
    "    Precursor = Quant_canopus$`row ID`,\n",
    "    samples = processed_samples,\n",
    "    Category = Quant_canopus[[current_tax_col]]\n",
    "  ) %>% \n",
    "    replace(is.na(.), \"Unassigned\") %>%\n",
    "    filter(!is.na(Category))\n",
    "  if(nrow(Feature_per_sample) == 0) {\n",
    "    warning(paste(\"Taxonomy column not found:\", category))\n",
    "    next\n",
    "  }\n",
    "  Feature_per_sample_long <- Feature_per_sample %>%\n",
    "    separate_rows(samples, sep = \",\") %>%\n",
    "    mutate(samples = trimws(samples)) %>%\n",
    "    mutate(Category = ifelse(Category %in% (Feature_per_sample %>%\n",
    "                                              count(Category) %>%\n",
    "                                              top_n(15, wt = n) %>%\n",
    "                                              pull(Category)), \n",
    "                             Category, \"Others\")) %>%\n",
    "    group_by(samples, Category) %>%\n",
    "    summarise(count = n(), .groups = 'drop') %>%\n",
    "    group_by(samples) %>%\n",
    "    mutate(prop = count / sum(count)) %>%\n",
    "    ungroup() %>%\n",
    "    mutate(samples = factor(samples, levels = sort(unique(samples))))\n",
    "  p <- ggplot(Feature_per_sample_long, aes(x = samples, y = prop, fill = Category)) +\n",
    "    geom_bar(stat = \"identity\", position = \"fill\") +\n",
    "    scale_y_continuous(labels = scales::percent_format()) +\n",
    "    scale_fill_manual(values = custom_color_palette) +\n",
    "    labs(title = paste(\"Distribution by\", str_to_title(category)),\n",
    "         subtitle = paste(\"Taxonomy system:\", sub(\"#\", \"\", Taxonomy)),\n",
    "         x = NULL, y = \"Proportion\") +\n",
    "    theme_minimal() +\n",
    "    theme(axis.text.x = element_text(angle = 60, hjust = 1))\n",
    "  file_prefix <- paste0(\"plot/\", sub(\"#\", \"\", Taxonomy), \"_\", category)\n",
    "  ggsave(paste0(file_prefix, \"_sample.png\"), plot = p, width = 10, height = 6)\n",
    "  ggsave(paste0(file_prefix, \"_sample.svg\"), plot = p, width = 10, height = 6, device = \"svg\")\n",
    "  assign(paste0(sub(\"#\", \"\", Taxonomy), \"_\", category, \"_sample\"), p, envir = .GlobalEnv)\n",
    "}"
   ]
  },
  {
   "cell_type": "markdown",
   "id": "a6ae481a-ad1c-4104-aa76-ced1ac4b9369",
   "metadata": {},
   "source": [
    "# 4.2- Taxonomy with replicates"
   ]
  },
  {
   "cell_type": "code",
   "execution_count": 14,
   "id": "cab4cbc3-ea7c-45a7-a84f-87bec4fbc96d",
   "metadata": {},
   "outputs": [],
   "source": [
    "Quant_canopus_metadata <- Feature_per_sample_Metadata %>%\n",
    "  left_join(Canopus, by = c(\"Precursor\" = \"mappingFeatureId\")) %>% \n",
    "  select(\"Precursor\",\"samples\", contains(\"Peak Area\"), matches(paste0(\"^\", Taxonomy, \"(\", paste(taxonomy_columns[[Taxonomy]], collapse = \"|\"), \")$\")))\n",
    "process_sample_column <- function(sample_string) {\n",
    "  samples <- unlist(strsplit(sample_string, \" ,\"))\n",
    "  trimws(sub(\"\\\\..*\", \"\", samples))\n",
    "}\n",
    "for (category in taxonomy_columns[[Taxonomy]]) {\n",
    "  current_tax_col <- paste0(Taxonomy, str_remove(category, \"\\\\$\"))  \n",
    "  if (!current_tax_col %in% names(Quant_canopus_metadata)) {\n",
    "    warning(paste(\"Taxonomy column not found:\", current_tax_col))\n",
    "    next  \n",
    "  }\n",
    "  Feature_per_sample <- Quant_canopus_metadata %>%\n",
    "    select(Precursor, samples, Category = all_of(current_tax_col)) %>%\n",
    "    mutate(\n",
    "      samples = map(samples, ~ trimws(unlist(strsplit(.x, split = \"\\\\s*,\\\\s*\")))),\n",
    "      samples = map(samples, ~ sub(\"\\\\..*\", \"\", .x))\n",
    "    ) %>%\n",
    "    unnest(samples) %>% \n",
    "    filter(!is.na(samples) & samples != \"\") %>%  \n",
    "    mutate(Category = replace_na(Category, \"Unassigned\"))  \n",
    "  top_categories <- Feature_per_sample %>%\n",
    "    count(Category, sort = TRUE) %>%\n",
    "    slice_head(n = 15) %>%\n",
    "    pull(Category)\n",
    "  Feature_per_sample_long <- Feature_per_sample %>%\n",
    "    mutate(\n",
    "      Category = if_else(Category %in% top_categories, Category, \"Others\"),\n",
    "      samples = factor(samples, levels = sort(unique(samples)))  \n",
    "    ) %>%\n",
    "    group_by(samples, Category) %>%\n",
    "    summarise(count = n(), .groups = \"drop\") %>%\n",
    "    group_by(samples) %>%\n",
    "    mutate(prop = count / sum(count)) %>%\n",
    "    ungroup()\n",
    "\n",
    "  p <- ggplot(Feature_per_sample_long, aes(x = samples, y = prop, fill = Category)) +\n",
    "    geom_col(position = \"fill\") + \n",
    "    scale_y_continuous(labels = scales::percent_format()) +\n",
    "    scale_fill_manual(values = custom_color_palette) +\n",
    "    labs(\n",
    "      title = paste(\"Distribution by\", str_to_title(str_remove(category, \"\\\\$\"))),\n",
    "      subtitle = paste(\"Taxonomy system:\", sub(\"#\", \"\", Taxonomy)),\n",
    "      x = NULL, \n",
    "      y = \"Proportion\",\n",
    "      fill = NULL\n",
    "    ) +\n",
    "    theme_minimal() +\n",
    "    theme(\n",
    "      axis.text.x = element_text(angle = 60, hjust = 1, size = 8),\n",
    "      legend.position = \"right\",\n",
    "      plot.title = element_text(face = \"bold\")\n",
    "    )\n",
    "  base_name <- paste0(sub(\"#\", \"\", Taxonomy), \"_\", str_remove(category, \"\\\\$\"), \"_sample_metadata\")\n",
    "  ggsave(\n",
    "    paste0(\"plot/\", base_name, \".png\"), \n",
    "    plot = p, \n",
    "    width = 10, \n",
    "    height = 6,\n",
    "    dpi = 300 \n",
    "  )\n",
    "  ggsave(\n",
    "    paste0(\"plot/\", base_name, \".svg\"), \n",
    "    plot = p, \n",
    "    width = 10, \n",
    "    height = 6\n",
    "  )\n",
    "  assign(paste0(base_name, \"_plot\"), p, envir = .GlobalEnv)\n",
    "}"
   ]
  }
 ],
 "metadata": {
  "kernelspec": {
   "display_name": "R",
   "language": "R",
   "name": "ir"
  },
  "language_info": {
   "codemirror_mode": "r",
   "file_extension": ".r",
   "mimetype": "text/x-r-source",
   "name": "R",
   "pygments_lexer": "r",
   "version": "4.4.2"
  }
 },
 "nbformat": 4,
 "nbformat_minor": 5
}
